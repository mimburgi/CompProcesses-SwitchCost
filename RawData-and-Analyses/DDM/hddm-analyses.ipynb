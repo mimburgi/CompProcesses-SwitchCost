{
 "cells": [
  {
   "cell_type": "code",
   "execution_count": 1,
   "metadata": {},
   "outputs": [
    {
     "name": "stderr",
     "output_type": "stream",
     "text": [
      "/Users/mimburgi/anaconda3/lib/python2.7/site-packages/IPython/parallel.py:13: ShimWarning: The `IPython.parallel` package has been deprecated since IPython 4.0. You should import from ipyparallel instead.\n",
      "  \"You should import from ipyparallel instead.\", ShimWarning)\n"
     ]
    }
   ],
   "source": [
    "import pandas as pd #for dealing with data as tables\n",
    "import matplotlib.pyplot as plt #for visualization\n",
    "\n",
    "import hddm"
   ]
  },
  {
   "cell_type": "code",
   "execution_count": null,
   "metadata": {},
   "outputs": [],
   "source": [
    "voldata = hddm.load_csv('./vtsmodel-hddm-input-vol.csv')\n",
    "expdata = hddm.load_csv('./vtsmodel-hddm-input-exp.csv')"
   ]
  },
  {
   "cell_type": "code",
   "execution_count": null,
   "metadata": {},
   "outputs": [],
   "source": [
    "# volmod = hddm.HDDM(voldata, depends_on={'v': ('altRep', 'RCICSI'), 't': ('altRep', 'RCICSI'), 'a': ('altRep')}, p_outlier = .05) #t, resp boundary and drift rate vary by all conditions\n",
    "# volmod.find_starting_values() #get starting sampling values\n",
    "# volmod.sample(10000, burn=1000, dbname='tracesv-12-5-19.db', db='pickle') #fit the model\n",
    "# volmod.save('volmod-12-5-19')\n",
    "\n",
    "\n",
    "# expmod = hddm.HDDM(expdata, depends_on={'v': ('altRep', 'RCICSI'), 't': ('altRep', 'RCICSI'), 'a': ('altRep')}, p_outlier = .05) #t, resp boundary and drift rate vary by all conditions\n",
    "# expmod.find_starting_values() #get starting sampling values\n",
    "# expmod.sample(10000, burn=1000, dbname='tracese-12-5-19.db', db='pickle') #fit the model\n",
    "# expmod.save('expmod-12-5-19')\n",
    "\n",
    "\n",
    "volmod=hddm.load('volmod-12-5-19')\n",
    "\n",
    "expmod=hddm.load('expmod-12-5-19')"
   ]
  },
  {
   "cell_type": "code",
   "execution_count": null,
   "metadata": {},
   "outputs": [],
   "source": [
    "#uncomment to examine posterior distributions for a visual inspection of convergence\n",
    "volmod.plot_posteriors(['a', 't', 'v', 'a_std','t_std','v_std'])\n",
    "#expmod.plot_posteriors(['a', 't', 'v', 'a_std','t_std','v_std'])"
   ]
  },
  {
   "cell_type": "code",
   "execution_count": 9,
   "metadata": {},
   "outputs": [
    {
     "name": "stdout",
     "output_type": "stream",
     "text": [
      "\n"
     ]
    }
   ],
   "source": [
    "#get nodes from models\n",
    "Vv_SL_Sw, Vv_SL_Rep, Vt_SL_Sw, Vt_SL_Rep=volmod.nodes_db.node[['v(S.L.Switch)', 'v(S.L.Repeat)', 't(S.L.Switch)', 't(S.L.Repeat)']]\n",
    "Vv_LS_Sw, Vv_LS_Rep, Vt_LS_Sw, Vt_LS_Rep=volmod.nodes_db.node[['v(L.S.Switch)', 'v(L.S.Repeat)', 't(L.S.Switch)', 't(L.S.Repeat)']]\n",
    "Vv_SS_Sw, Vv_SS_Rep, Vt_SS_Sw, Vt_SS_Rep=volmod.nodes_db.node[['v(S.S.Switch)', 'v(S.S.Repeat)', 't(S.S.Switch)', 't(S.S.Repeat)']]\n",
    "Vv_LL_Sw, Vv_LL_Rep, Vt_LL_Sw, Vt_LL_Rep=volmod.nodes_db.node[['v(L.L.Switch)', 'v(L.L.Repeat)', 't(L.L.Switch)', 't(L.L.Repeat)']]\n",
    "\n",
    "\n",
    "Ev_SL_Sw, Ev_SL_Rep, Et_SL_Sw, Et_SL_Rep=expmod.nodes_db.node[['v(S.L.Switch)', 'v(S.L.Repeat)', 't(S.L.Switch)', 't(S.L.Repeat)']]\n",
    "Ev_LS_Sw, Ev_LS_Rep, Et_LS_Sw, Et_LS_Rep=expmod.nodes_db.node[['v(L.S.Switch)', 'v(L.S.Repeat)', 't(L.S.Switch)', 't(L.S.Repeat)']]\n",
    "Ev_SS_Sw, Ev_SS_Rep, Et_SS_Sw, Et_SS_Rep=expmod.nodes_db.node[['v(S.S.Switch)', 'v(S.S.Repeat)', 't(S.S.Switch)', 't(S.S.Repeat)']]\n",
    "Ev_LL_Sw, Ev_LL_Rep, Et_LL_Sw, Et_LL_Rep=expmod.nodes_db.node[['v(L.L.Switch)', 'v(L.L.Repeat)', 't(L.L.Switch)', 't(L.L.Repeat)']]"
   ]
  },
  {
   "cell_type": "code",
   "execution_count": 12,
   "metadata": {},
   "outputs": [
    {
     "name": "stdout",
     "output_type": "stream",
     "text": [
      "Prob switch t0 > repeat t0, SS (voluntary):  0.9992222222222222\n",
      "Prob switch t0 > repeat t0, SL (voluntary):  0.0\n",
      "Prob switch t0 > repeat t0, LS (voluntary):  0.4567777777777778\n",
      "Prob switch t0 > repeat t0, LL (voluntary):  0.0\n",
      "\n",
      "\n",
      "\n",
      "Prob switch t0 > repeat t0, SS (explicit):  0.39466666666666667\n",
      "Prob switch t0 > repeat t0, SL (explicit):  0.09466666666666666\n",
      "Prob switch t0 > repeat t0, LS (explicit):  0.5243333333333333\n",
      "Prob switch t0 > repeat t0, LL (explicit):  0.2783333333333333\n"
     ]
    }
   ],
   "source": [
    "#examine effects of switching on nondecision time (t0) within each interval combination\n",
    "#previous work in explicit paradigms reports t0 greater for switches than repeats\n",
    "\n",
    "#voluntary\n",
    "print \"Prob switch t0 > repeat t0, SS (voluntary): \", (Vt_SS_Sw.trace() > Vt_SS_Rep.trace()).mean() # sign\n",
    "print \"Prob switch t0 > repeat t0, SL (voluntary): \", (Vt_SL_Sw.trace() > Vt_SL_Rep.trace()).mean() #sign opp direction\n",
    "print \"Prob switch t0 > repeat t0, LS (voluntary): \", (Vt_LS_Sw.trace() > Vt_LS_Rep.trace()).mean() #ns\n",
    "print \"Prob switch t0 > repeat t0, LL (voluntary): \", (Vt_LL_Sw.trace() > Vt_LL_Rep.trace()).mean() #sign opp direction\n",
    "\n",
    "print(\"\\n\\n\")\n",
    "\n",
    "#explicit\n",
    "print \"Prob switch t0 > repeat t0, SS (explicit): \", (Et_SS_Sw.trace() > Et_SS_Rep.trace()).mean() #ns\n",
    "print \"Prob switch t0 > repeat t0, SL (explicit): \", (Et_SL_Sw.trace() > Et_SL_Rep.trace()).mean() #ns\n",
    "print \"Prob switch t0 > repeat t0, LS (explicit): \", (Et_LS_Sw.trace() > Et_LS_Rep.trace()).mean() #ns\n",
    "print \"Prob switch t0 > repeat t0, LL (explicit): \", (Et_LL_Sw.trace() > Et_LL_Rep.trace()).mean() #ns"
   ]
  },
  {
   "cell_type": "code",
   "execution_count": 19,
   "metadata": {},
   "outputs": [
    {
     "name": "stdout",
     "output_type": "stream",
     "text": [
      "Prob repeat v > switch v, SS (voluntary):  1.0\n",
      "Prob repeat v > switch v, SL (voluntary):  1.0\n",
      "Prob repeat v > switch v, LS (voluntary):  1.0\n",
      "Prob repeat v > switch v, LL (voluntary):  1.0\n",
      "\n",
      "\n",
      "\n",
      "Prob repeat v > switch v, SS (explicit):  1.0\n",
      "Prob repeat v > switch v, SL (explicit):  1.0\n",
      "Prob repeat v > switch v, LS (explicit):  0.9996666666666667\n",
      "Prob repeat v > switch v, LL (explicit):  0.9925555555555555\n"
     ]
    }
   ],
   "source": [
    "#examine effects of switching on drift rate (v) within each interval combination\n",
    "#previous work in explicit paradigms reports v greater for repeats than switches\n",
    "#all are significant in the same direction\n",
    "\n",
    "#voluntary\n",
    "print \"Prob repeat v > switch v, SS (voluntary): \", (Vv_SS_Rep.trace() > Vv_SS_Sw.trace()).mean() \n",
    "print \"Prob repeat v > switch v, SL (voluntary): \", (Vv_SL_Rep.trace() > Vv_SL_Sw.trace()).mean() \n",
    "print \"Prob repeat v > switch v, LS (voluntary): \", (Vv_LS_Rep.trace() > Vv_LS_Sw.trace()).mean() \n",
    "print \"Prob repeat v > switch v, LL (voluntary): \", (Vv_LL_Rep.trace() > Vv_LL_Sw.trace()).mean() \n",
    "\n",
    "print('\\n\\n')\n",
    "\n",
    "#explicit\n",
    "print \"Prob repeat v > switch v, SS (explicit): \", (Ev_SS_Rep.trace() > Ev_SS_Sw.trace()).mean() \n",
    "print \"Prob repeat v > switch v, SL (explicit): \", (Ev_SL_Rep.trace() > Ev_SL_Sw.trace()).mean() \n",
    "print \"Prob repeat v > switch v, LS (explicit): \", (Ev_LS_Rep.trace() > Ev_LS_Sw.trace()).mean() \n",
    "print \"Prob repeat v > switch v, LL (explicit): \", (Ev_LL_Rep.trace() > Ev_LL_Sw.trace()).mean()"
   ]
  },
  {
   "cell_type": "code",
   "execution_count": 15,
   "metadata": {},
   "outputs": [],
   "source": [
    "#create 'inertia cost' and 'preparation cost' measures for each interval combination\n",
    "#calculated as the difference in v and t0 between switch and repeat, respectively\n",
    "#difference is always calculated such that a positive cost means slower performance on switches\n",
    "#for t0, this means switch - repeat; for v, this means repeat - switch\n",
    "\n",
    "#voluntary preparation costs\n",
    "Vprepcost_SL=Vt_SL_Sw.trace()-Vt_SL_Rep.trace()\n",
    "Vprepcost_LS=Vt_LS_Sw.trace()-Vt_LS_Rep.trace()\n",
    "Vprepcost_SS=Vt_SS_Sw.trace()-Vt_SS_Rep.trace()\n",
    "Vprepcost_LL=Vt_LL_Sw.trace()-Vt_LL_Rep.trace()\n",
    "\n",
    "#explicit preparation costs\n",
    "Eprepcost_SL=Et_SL_Sw.trace()-Et_SL_Rep.trace()\n",
    "Eprepcost_LS=Et_LS_Sw.trace()-Et_LS_Rep.trace()\n",
    "Eprepcost_SS=Et_SS_Sw.trace()-Et_SS_Rep.trace()\n",
    "Eprepcost_LL=Et_LL_Sw.trace()-Et_LL_Rep.trace()\n",
    "\n",
    "#voluntary inertia costs\n",
    "Vinertiacost_SL=Vv_SL_Rep.trace()-Vv_SL_Sw.trace()\n",
    "Vinertiacost_LS=Vv_LS_Rep.trace()-Vv_LS_Sw.trace()\n",
    "Vinertiacost_SS=Vv_SS_Rep.trace()-Vv_SS_Sw.trace()\n",
    "Vinertiacost_LL=Vv_LL_Rep.trace()-Vv_LL_Sw.trace()\n",
    "\n",
    "#explicit inertia costs\n",
    "Einertiacost_SL=Ev_SL_Rep.trace()-Ev_SL_Sw.trace()\n",
    "Einertiacost_LS=Ev_LS_Rep.trace()-Ev_LS_Sw.trace()\n",
    "Einertiacost_SS=Ev_SS_Rep.trace()-Ev_SS_Sw.trace()\n",
    "Einertiacost_LL=Ev_LL_Rep.trace()-Ev_LL_Sw.trace()"
   ]
  },
  {
   "cell_type": "code",
   "execution_count": 18,
   "metadata": {},
   "outputs": [
    {
     "name": "stdout",
     "output_type": "stream",
     "text": [
      "Prob longer CSI w/ constant RSI means better prep cost (voluntary):  0.998\n",
      "Prob longer RSI w/ short CSI means better prep cost (voluntary):  0.992\n",
      "Prob longer RSI w/ long CSI means better prep cost (voluntary):  0.6765555555555556\n",
      "Prob increasing both intervals means better prep cost (voluntary):  1.0\n",
      "\n",
      "\n",
      "\n",
      "Prob longer CSI w/ constant RSI means better prep cost (explicit):  0.8411111111111111\n",
      "Prob longer RSI w/ short CSI means better prep cost (explicit):  0.416\n",
      "Prob longer RSI w/ long CSI means better prep cost (explicit):  0.2927777777777778\n",
      "Prob increasing both intervals means better prep cost (explicit):  0.5996666666666667\n"
     ]
    }
   ],
   "source": [
    "#examine differences in preparation costs across interval pairs of interest\n",
    "\n",
    "#voluntary\n",
    "print \"Prob longer CSI w/ constant RSI means better prep cost (voluntary): \", (Vprepcost_SL < Vprepcost_LS).mean() #sig\n",
    "print \"Prob longer RSI w/ short CSI means better prep cost (voluntary): \", (Vprepcost_LS < Vprepcost_SS).mean() #sig\n",
    "print \"Prob longer RSI w/ long CSI means better prep cost (voluntary): \", (Vprepcost_LL < Vprepcost_SL).mean() #ns\n",
    "print \"Prob increasing both intervals means better prep cost (voluntary): \", (Vprepcost_LL < Vprepcost_SS).mean() #sig\n",
    "\n",
    "print('\\n\\n')\n",
    "\n",
    "#explicit\n",
    "print \"Prob longer CSI w/ constant RSI means better prep cost (explicit): \", (Eprepcost_SL < Eprepcost_LS).mean() #ns\n",
    "print \"Prob longer RSI w/ short CSI means better prep cost (explicit): \", (Eprepcost_LS < Eprepcost_SS).mean() #ns\n",
    "print \"Prob longer RSI w/ long CSI means better prep cost (explicit): \", (Eprepcost_LL < Eprepcost_SL).mean() #ns\n",
    "print \"Prob increasing both intervals means better prep cost (explicit): \", (Eprepcost_LL < Eprepcost_SS).mean() #ns"
   ]
  },
  {
   "cell_type": "code",
   "execution_count": 20,
   "metadata": {},
   "outputs": [
    {
     "name": "stdout",
     "output_type": "stream",
     "text": [
      "Prob longer CSI w/ constant RSI means better inertia cost (voluntary):  0.69\n",
      "Prob longer RSI w/ short CSI means better inertia cost (voluntary):  0.9\n",
      "Prob longer RSI w/ long CSI means better inertia cost (voluntary):  0.9043333333333333\n",
      "Prob increasing both intervals means better inertia cost (voluntary):  0.9988888888888889\n",
      "\n",
      "\n",
      "\n",
      "Prob longer CSI w/ constant RSI means better inertia cost (explicit):  0.10755555555555556\n",
      "Prob longer RSI w/ short CSI means better inertia cost (explicit):  0.999\n",
      "Prob longer RSI w/ long CSI means better inertia cost (explicit):  0.9754444444444444\n",
      "Prob increasing both intervals means better inertia cost (explicit):  1.0\n"
     ]
    }
   ],
   "source": [
    "#examine differences in inertia costs across interval pairs of interest\n",
    "\n",
    "#voluntary\n",
    "print \"Prob longer CSI w/ constant RSI means better inertia cost (voluntary): \", (Vinertiacost_SL < Vinertiacost_LS).mean() #ns \n",
    "print \"Prob longer RSI w/ short CSI means better inertia cost (voluntary): \", (Vinertiacost_LS < Vinertiacost_SS).mean() #sig\n",
    "print \"Prob longer RSI w/ long CSI means better inertia cost (voluntary): \", (Vinertiacost_LL < Vinertiacost_SL).mean() #ns\n",
    "print \"Prob increasing both intervals means better inertia cost (voluntary): \", (Vinertiacost_LL < Vinertiacost_SS).mean() #sig\n",
    "\n",
    "print('\\n\\n')\n",
    "\n",
    "#explicit\n",
    "print \"Prob longer CSI w/ constant RSI means better inertia cost (explicit): \", (Einertiacost_SL < Einertiacost_LS).mean() #ns\n",
    "print \"Prob longer RSI w/ short CSI means better inertia cost (explicit): \", (Einertiacost_LS < Einertiacost_SS).mean() #sig\n",
    "print \"Prob longer RSI w/ long CSI means better inertia cost (explicit): \", (Einertiacost_LL < Einertiacost_SL).mean() #sig\n",
    "print \"Prob increasing both intervals means better inertia cost (explicit): \", (Einertiacost_LL < Einertiacost_SS).mean() #sig"
   ]
  },
  {
   "cell_type": "code",
   "execution_count": 22,
   "metadata": {},
   "outputs": [
    {
     "name": "stdout",
     "output_type": "stream",
     "text": [
      " Prob longer CSI w/ constant RSI means better switch t0 (voluntary):  1.0\n",
      "Prob longer RSI w/ short CSI means better switch t0 (voluntary):  0.9992222222222222\n",
      "Prob longer RSI w/ long CSI means better switch t0 (voluntary):  1.0\n",
      "Prob increasing both intervals means better switch t0 (voluntary):  1.0\n",
      "\n",
      "\n",
      "Prob longer CSI w/ constant RSI means better switch t0 (explicit):  1.0\n",
      "Prob longer RSI w/ short CSI means better switch t0 (explicit):  0.35233333333333333\n",
      "Prob longer RSI w/ long CSI means better switch t0 (explicit):  1.0\n",
      "Prob increasing both intervals means better switch t0 (explicit):  1.0\n",
      "\n",
      "\n",
      "\n",
      "Prob longer CSI w/ constant RSI means better repeat t0 (voluntary):  1.0\n",
      "Prob longer RSI w/ short CSI means better repeat t0 (voluntary):  0.5794444444444444\n",
      "Prob longer RSI w/ long CSI means better repeat t0 (voluntary):  1.0\n",
      "Prob increasing both intervals means better repeat t0 (voluntary):  1.0\n",
      "\n",
      "\n",
      "Prob longer CSI w/ constant RSI means better repeat t0 (explicit):  1.0\n",
      "Prob longer RSI w/ short CSI means better repeat t0 (explicit):  0.464\n",
      "Prob longer RSI w/ long CSI means better repeat t0 (explicit):  1.0\n",
      "Prob increasing both intervals means better repeat t0 (explicit):  1.0\n"
     ]
    }
   ],
   "source": [
    "#examine differences in t0 across interval pairs for switches and repeats individually \n",
    "\n",
    "#voluntary, t0, switches\n",
    "print \"Prob longer CSI w/ constant RSI means better switch t0 (voluntary): \", (Vt_SL_Sw.trace() < Vt_LS_Sw.trace()).mean() #sig\n",
    "print \"Prob longer RSI w/ short CSI means better switch t0 (voluntary): \", (Vt_LS_Sw.trace() < Vt_SS_Sw.trace()).mean() #sig\n",
    "print \"Prob longer RSI w/ long CSI means better switch t0 (voluntary): \", (Vt_LL_Sw.trace() < Vt_LS_Sw.trace()).mean() #sig\n",
    "print \"Prob increasing both intervals means better switch t0 (voluntary): \", (Vt_LL_Sw.trace() < Vt_SS_Sw.trace()).mean() #sig\n",
    "\n",
    "print('\\n')\n",
    "\n",
    "#explicit, t0, switches\n",
    "print \"Prob longer CSI w/ constant RSI means better switch t0 (explicit): \", (Et_SL_Sw.trace() < Et_LS_Sw.trace()).mean() #sig\n",
    "print \"Prob longer RSI w/ short CSI means better switch t0 (explicit): \", (Et_LS_Sw.trace() < Et_SS_Sw.trace()).mean() #ns\n",
    "print \"Prob longer RSI w/ long CSI means better switch t0 (explicit): \", (Et_LL_Sw.trace() < Et_LS_Sw.trace()).mean() #sig\n",
    "print \"Prob increasing both intervals means better switch t0 (explicit): \", (Et_LL_Sw.trace() < Et_SS_Sw.trace()).mean() #sig\n",
    "\n",
    "print('\\n\\n')\n",
    "\n",
    "#voluntary, t0, repeats\n",
    "print \"Prob longer CSI w/ constant RSI means better repeat t0 (voluntary): \", (Vt_SL_Rep.trace() < Vt_LS_Rep.trace()).mean() #sig\n",
    "print \"Prob longer RSI w/ short CSI means better repeat t0 (voluntary): \", (Vt_LS_Rep.trace() < Vt_SS_Rep.trace()).mean() #ns\n",
    "print \"Prob longer RSI w/ long CSI means better repeat t0 (voluntary): \", (Vt_LL_Rep.trace() < Vt_LS_Rep.trace()).mean() #sig\n",
    "print \"Prob increasing both intervals means better repeat t0 (voluntary): \", (Vt_LL_Rep.trace() < Vt_SS_Rep.trace()).mean() #sig\n",
    "\n",
    "print('\\n')\n",
    "\n",
    "#explicit, t0, repeats\n",
    "print \"Prob longer CSI w/ constant RSI means better repeat t0 (explicit): \", (Et_SL_Rep.trace() < Et_LS_Rep.trace()).mean() #sig\n",
    "print \"Prob longer RSI w/ short CSI means better repeat t0 (explicit): \", (Et_LS_Rep.trace() < Et_SS_Rep.trace()).mean() #ns\n",
    "print \"Prob longer RSI w/ long CSI means better repeat t0 (explicit): \", (Et_LL_Rep.trace() < Et_LS_Rep.trace()).mean() #sig\n",
    "print \"Prob increasing both intervals means better repeat t0 (explicit): \", (Et_LL_Rep.trace() < Et_SS_Rep.trace()).mean() #sig"
   ]
  },
  {
   "cell_type": "code",
   "execution_count": 24,
   "metadata": {},
   "outputs": [
    {
     "name": "stdout",
     "output_type": "stream",
     "text": [
      " Prob longer CSI w/ constant RSI means better switch v (voluntary):  0.1497777777777778\n",
      "Prob longer RSI w/ short CSI means better switch v (voluntary):  0.7243333333333334\n",
      "Prob longer RSI w/ long CSI means better switch v (voluntary):  0.1971111111111111\n",
      "Prob increasing both intervals means better switch v (voluntary):  0.4028888888888889\n",
      "\n",
      "\n",
      "Prob longer CSI w/ constant RSI means better switch v (explicit):  0.20866666666666667\n",
      "Prob longer RSI w/ short CSI means better switch v (explicit):  0.909\n",
      "Prob longer RSI w/ long CSI means better switch v (explicit):  0.5888888888888889\n",
      "Prob increasing both intervals means better switch v (explicit):  0.9403333333333334\n",
      "\n",
      "\n",
      "\n",
      "Prob longer CSI w/ constant RSI means better repeat v (voluntary):  0.3827777777777778\n",
      "Prob longer RSI w/ short CSI means better repeat v (voluntary):  0.9907777777777778\n",
      "Prob longer RSI w/ long CSI means better repeat v (voluntary):  0.9555555555555556\n",
      "Prob increasing both intervals means better repeat v (voluntary):  1.0\n",
      "\n",
      "\n",
      "Prob longer CSI w/ constant RSI means better repeat v (explicit):  0.006\n",
      "Prob longer RSI w/ short CSI means better repeat v (explicit):  1.0\n",
      "Prob longer RSI w/ long CSI means better repeat v (explicit):  0.8855555555555555\n",
      "Prob increasing both intervals means better repeat v (explicit):  1.0\n"
     ]
    }
   ],
   "source": [
    "#examine differences in v across interval pairs for switches and repeats individually \n",
    "\n",
    "#voluntary, v, switches\n",
    "print \"Prob longer CSI w/ constant RSI means worse switch v (voluntary): \", (Vv_SL_Sw.trace() < Vv_LS_Sw.trace()).mean() #ns\n",
    "print \"Prob longer RSI w/ short CSI means worse switch v (voluntary): \", (Vv_LS_Sw.trace() < Vv_SS_Sw.trace()).mean() #ns\n",
    "print \"Prob longer RSI w/ long CSI means worse switch v (voluntary): \", (Vv_LL_Sw.trace() < Vv_LS_Sw.trace()).mean() #ns\n",
    "print \"Prob increasing both intervals means worse switch v (voluntary): \", (Vv_LL_Sw.trace() < Vv_SS_Sw.trace()).mean() #ns\n",
    "\n",
    "print('\\n')\n",
    "\n",
    "#explicit, v, switches\n",
    "print \"Prob longer CSI w/ constant RSI means worse switch v (explicit): \", (Ev_SL_Sw.trace() < Ev_LS_Sw.trace()).mean() #ns\n",
    "print \"Prob longer RSI w/ short CSI means worse switch v (explicit): \", (Ev_LS_Sw.trace() < Ev_SS_Sw.trace()).mean() #ns\n",
    "print \"Prob longer RSI w/ long CSI means worse switch v (explicit): \", (Ev_LL_Sw.trace() < Ev_LS_Sw.trace()).mean() #ns\n",
    "print \"Prob increasing both intervals means worse switch v (explicit): \", (Ev_LL_Sw.trace() < Ev_SS_Sw.trace()).mean() #ns\n",
    "\n",
    "print('\\n\\n')\n",
    "\n",
    "#voluntary, v, repeats\n",
    "print \"Prob longer CSI w/ constant RSI means worse repeat v (voluntary): \", (Vv_SL_Rep.trace() < Vv_LS_Rep.trace()).mean() #ns\n",
    "print \"Prob longer RSI w/ short CSI means worse repeat v (voluntary): \", (Vv_LS_Rep.trace() < Vv_SS_Rep.trace()).mean() #sig\n",
    "print \"Prob longer RSI w/ long CSI means worse repeat v (voluntary): \", (Vv_LL_Rep.trace() < Vv_LS_Rep.trace()).mean() #sig\n",
    "print \"Prob increasing both intervals means worse repeat v (voluntary): \", (Vv_LL_Rep.trace() < Vv_SS_Rep.trace()).mean() #sig\n",
    "\n",
    "print('\\n')\n",
    "\n",
    "#explicit, v, repeats\n",
    "print \"Prob longer CSI w/ constant RSI means worse repeat v (explicit): \", (Ev_SL_Rep.trace() < Ev_LS_Rep.trace()).mean() #sig opposite direction\n",
    "print \"Prob longer RSI w/ short CSI means worse repeat v (explicit): \", (Ev_LS_Rep.trace() < Ev_SS_Rep.trace()).mean() #sig\n",
    "print \"Prob longer RSI w/ long CSI means worse repeat v (explicit): \", (Ev_LL_Rep.trace() < Ev_LS_Rep.trace()).mean() #ns\n",
    "print \"Prob increasing both intervals means worse repeat v (explicit): \", (Ev_LL_Rep.trace() < Ev_SS_Rep.trace()).mean() #sig"
   ]
  },
  {
   "cell_type": "code",
   "execution_count": null,
   "metadata": {},
   "outputs": [],
   "source": []
  }
 ],
 "metadata": {
  "kernelspec": {
   "display_name": "Python 2",
   "language": "python",
   "name": "python2"
  },
  "language_info": {
   "codemirror_mode": {
    "name": "ipython",
    "version": 2
   },
   "file_extension": ".py",
   "mimetype": "text/x-python",
   "name": "python",
   "nbconvert_exporter": "python",
   "pygments_lexer": "ipython2",
   "version": "2.7.16"
  }
 },
 "nbformat": 4,
 "nbformat_minor": 4
}
